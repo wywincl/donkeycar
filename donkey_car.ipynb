{
  "nbformat": 4,
  "nbformat_minor": 0,
  "metadata": {
    "colab": {
      "name": "donkey_car.ipynb",
      "version": "0.3.2",
      "provenance": [],
      "toc_visible": true
    },
    "kernelspec": {
      "name": "python3",
      "display_name": "Python 3"
    },
    "accelerator": "GPU"
  },
  "cells": [
    {
      "metadata": {
        "id": "NZCknSkxwbeO",
        "colab_type": "text"
      },
      "cell_type": "markdown",
      "source": [
        "![donkey](http://images.ncnynl.com/ros/2018/donkey-car-graphic_orig.jpg)\n",
        "# Donkey Car指南\n",
        "\n",
        "|作者 | 修改日期 |\n",
        "|-----|------|\n",
        "| 汪阳 | 2018/10/30  | \n",
        "\n",
        "\n"
      ]
    },
    {
      "metadata": {
        "id": "Mk4GCXLuxg_5",
        "colab_type": "text"
      },
      "cell_type": "markdown",
      "source": [
        "## 1. 克隆donkeycar代码"
      ]
    },
    {
      "metadata": {
        "id": "Ivh2xqemDFdl",
        "colab_type": "code",
        "colab": {
          "base_uri": "https://localhost:8080/",
          "height": 119
        },
        "outputId": "217b86ec-7841-421a-adb9-58dfd29d4622"
      },
      "cell_type": "code",
      "source": [
        "!rm -rf donkey && git clone -b master https://github.com/wroscoe/donkey.git donkey"
      ],
      "execution_count": 4,
      "outputs": [
        {
          "output_type": "stream",
          "text": [
            "Cloning into 'donkey'...\n",
            "remote: Enumerating objects: 1, done.\u001b[K\n",
            "remote: Counting objects: 100% (1/1), done.\u001b[K\n",
            "remote: Total 6205 (delta 0), reused 0 (delta 0), pack-reused 6204\u001b[K\n",
            "Receiving objects: 100% (6205/6205), 30.79 MiB | 8.99 MiB/s, done.\n",
            "Resolving deltas: 100% (3579/3579), done.\n"
          ],
          "name": "stdout"
        }
      ]
    },
    {
      "metadata": {
        "id": "RQiey0B3yFsn",
        "colab_type": "text"
      },
      "cell_type": "markdown",
      "source": [
        "## 2. 安装donkeycar到本地"
      ]
    },
    {
      "metadata": {
        "id": "NEWxSp_RJqg_",
        "colab_type": "code",
        "colab": {
          "base_uri": "https://localhost:8080/",
          "height": 1091
        },
        "outputId": "b736c5b1-b752-4ef8-9dc2-d304528b423f"
      },
      "cell_type": "code",
      "source": [
        "!pip3 install -e donkey"
      ],
      "execution_count": 5,
      "outputs": [
        {
          "output_type": "stream",
          "text": [
            "Obtaining file:///content/donkey\n",
            "Requirement already satisfied: numpy in /usr/local/lib/python3.6/dist-packages (from donkeycar==2.5.1) (1.14.6)\n",
            "Requirement already satisfied: pillow in /usr/local/lib/python3.6/dist-packages (from donkeycar==2.5.1) (4.0.0)\n",
            "Collecting docopt (from donkeycar==2.5.1)\n",
            "  Downloading https://files.pythonhosted.org/packages/a2/55/8f8cab2afd404cf578136ef2cc5dfb50baa1761b68c9da1fb1e4eed343c9/docopt-0.6.2.tar.gz\n",
            "Requirement already satisfied: tornado==4.5.3 in /usr/local/lib/python3.6/dist-packages (from donkeycar==2.5.1) (4.5.3)\n",
            "Requirement already satisfied: requests in /usr/local/lib/python3.6/dist-packages (from donkeycar==2.5.1) (2.18.4)\n",
            "Requirement already satisfied: h5py in /usr/local/lib/python3.6/dist-packages (from donkeycar==2.5.1) (2.8.0)\n",
            "Collecting python-socketio (from donkeycar==2.5.1)\n",
            "  Downloading https://files.pythonhosted.org/packages/45/c5/29e84a694fadea5864ef9530fe815512764497205b4880be32efefbb607f/python_socketio-2.0.0-py2.py3-none-any.whl\n",
            "Collecting flask (from donkeycar==2.5.1)\n",
            "\u001b[?25l  Downloading https://files.pythonhosted.org/packages/7f/e7/08578774ed4536d3242b14dacb4696386634607af824ea997202cd0edb4b/Flask-1.0.2-py2.py3-none-any.whl (91kB)\n",
            "\u001b[K    100% |████████████████████████████████| 92kB 4.5MB/s \n",
            "\u001b[?25hCollecting eventlet (from donkeycar==2.5.1)\n",
            "\u001b[?25l  Downloading https://files.pythonhosted.org/packages/86/7e/96e1412f96eeb2f2eca9342dcc4d5bc9305880a448b603b0a8e54439b71c/eventlet-0.24.1-py2.py3-none-any.whl (219kB)\n",
            "\u001b[K    100% |████████████████████████████████| 225kB 26.6MB/s \n",
            "\u001b[?25hCollecting moviepy (from donkeycar==2.5.1)\n",
            "\u001b[?25l  Downloading https://files.pythonhosted.org/packages/1f/af/98b68b047c47d9430cb4c9ac899cf9d969de3936f888072991ea74da93a8/moviepy-0.2.3.5.tar.gz (372kB)\n",
            "\u001b[K    100% |████████████████████████████████| 378kB 28.0MB/s \n",
            "\u001b[?25hRequirement already satisfied: pandas in /usr/local/lib/python3.6/dist-packages (from donkeycar==2.5.1) (0.22.0)\n",
            "Requirement already satisfied: olefile in /usr/local/lib/python3.6/dist-packages (from pillow->donkeycar==2.5.1) (0.46)\n",
            "Requirement already satisfied: chardet<3.1.0,>=3.0.2 in /usr/local/lib/python3.6/dist-packages (from requests->donkeycar==2.5.1) (3.0.4)\n",
            "Requirement already satisfied: urllib3<1.23,>=1.21.1 in /usr/local/lib/python3.6/dist-packages (from requests->donkeycar==2.5.1) (1.22)\n",
            "Requirement already satisfied: certifi>=2017.4.17 in /usr/local/lib/python3.6/dist-packages (from requests->donkeycar==2.5.1) (2018.10.15)\n",
            "Requirement already satisfied: idna<2.7,>=2.5 in /usr/local/lib/python3.6/dist-packages (from requests->donkeycar==2.5.1) (2.6)\n",
            "Requirement already satisfied: six in /usr/local/lib/python3.6/dist-packages (from h5py->donkeycar==2.5.1) (1.11.0)\n",
            "Collecting python-engineio>=2.2.0 (from python-socketio->donkeycar==2.5.1)\n",
            "  Downloading https://files.pythonhosted.org/packages/03/6e/44dea849953c21004e288f64d784822c18df25aa043855d87cc1f63c4b41/python_engineio-2.3.2-py2.py3-none-any.whl\n",
            "Requirement already satisfied: Werkzeug>=0.14 in /usr/local/lib/python3.6/dist-packages (from flask->donkeycar==2.5.1) (0.14.1)\n",
            "Requirement already satisfied: Jinja2>=2.10 in /usr/local/lib/python3.6/dist-packages (from flask->donkeycar==2.5.1) (2.10)\n",
            "Collecting click>=5.1 (from flask->donkeycar==2.5.1)\n",
            "\u001b[?25l  Downloading https://files.pythonhosted.org/packages/fa/37/45185cb5abbc30d7257104c434fe0b07e5a195a6847506c074527aa599ec/Click-7.0-py2.py3-none-any.whl (81kB)\n",
            "\u001b[K    100% |████████████████████████████████| 81kB 23.3MB/s \n",
            "\u001b[?25hCollecting itsdangerous>=0.24 (from flask->donkeycar==2.5.1)\n",
            "  Downloading https://files.pythonhosted.org/packages/76/ae/44b03b253d6fade317f32c24d100b3b35c2239807046a4c953c7b89fa49e/itsdangerous-1.1.0-py2.py3-none-any.whl\n",
            "Collecting dnspython>=1.15.0 (from eventlet->donkeycar==2.5.1)\n",
            "\u001b[?25l  Downloading https://files.pythonhosted.org/packages/a6/72/209e18bdfedfd78c6994e9ec96981624a5ad7738524dd474237268422cb8/dnspython-1.15.0-py2.py3-none-any.whl (177kB)\n",
            "\u001b[K    100% |████████████████████████████████| 184kB 23.8MB/s \n",
            "\u001b[?25hCollecting greenlet>=0.3 (from eventlet->donkeycar==2.5.1)\n",
            "\u001b[?25l  Downloading https://files.pythonhosted.org/packages/bf/45/142141aa47e01a5779f0fa5a53b81f8379ce8f2b1cd13df7d2f1d751ae42/greenlet-0.4.15-cp36-cp36m-manylinux1_x86_64.whl (41kB)\n",
            "\u001b[K    100% |████████████████████████████████| 51kB 20.2MB/s \n",
            "\u001b[?25hCollecting monotonic>=1.4 (from eventlet->donkeycar==2.5.1)\n",
            "  Downloading https://files.pythonhosted.org/packages/ac/aa/063eca6a416f397bd99552c534c6d11d57f58f2e94c14780f3bbf818c4cf/monotonic-1.5-py2.py3-none-any.whl\n",
            "Requirement already satisfied: decorator<5.0,>=4.0.2 in /usr/local/lib/python3.6/dist-packages (from moviepy->donkeycar==2.5.1) (4.3.0)\n",
            "Collecting imageio<3.0,>=2.1.2 (from moviepy->donkeycar==2.5.1)\n",
            "\u001b[?25l  Downloading https://files.pythonhosted.org/packages/28/b4/cbb592964dfd71a9de6a5b08f882fd334fb99ae09ddc82081dbb2f718c81/imageio-2.4.1.tar.gz (3.3MB)\n",
            "\u001b[K    100% |████████████████████████████████| 3.3MB 10.6MB/s \n",
            "\u001b[?25hRequirement already satisfied: tqdm<5.0,>=4.11.2 in /usr/local/lib/python3.6/dist-packages (from moviepy->donkeycar==2.5.1) (4.28.1)\n",
            "Requirement already satisfied: python-dateutil>=2 in /usr/local/lib/python3.6/dist-packages (from pandas->donkeycar==2.5.1) (2.5.3)\n",
            "Requirement already satisfied: pytz>=2011k in /usr/local/lib/python3.6/dist-packages (from pandas->donkeycar==2.5.1) (2018.6)\n",
            "Requirement already satisfied: MarkupSafe>=0.23 in /usr/local/lib/python3.6/dist-packages (from Jinja2>=2.10->flask->donkeycar==2.5.1) (1.0)\n",
            "Building wheels for collected packages: docopt, moviepy, imageio\n",
            "  Running setup.py bdist_wheel for docopt ... \u001b[?25l-\b \bdone\n",
            "\u001b[?25h  Stored in directory: /root/.cache/pip/wheels/9b/04/dd/7daf4150b6d9b12949298737de9431a324d4b797ffd63f526e\n",
            "  Running setup.py bdist_wheel for moviepy ... \u001b[?25l-\b \b\\\b \bdone\n",
            "\u001b[?25h  Stored in directory: /root/.cache/pip/wheels/ad/92/4d/a6c6307d4c2219d002646bd4a5987e31fd5697f6ea7778b2c0\n",
            "  Running setup.py bdist_wheel for imageio ... \u001b[?25l-\b \b\\\b \b|\b \b/\b \bdone\n",
            "\u001b[?25h  Stored in directory: /root/.cache/pip/wheels/e0/43/31/605de9372ceaf657f152d3d5e82f42cf265d81db8bbe63cde1\n",
            "Successfully built docopt moviepy imageio\n",
            "Installing collected packages: docopt, python-engineio, python-socketio, click, itsdangerous, flask, dnspython, greenlet, monotonic, eventlet, imageio, moviepy, donkeycar\n",
            "  Running setup.py develop for donkeycar\n",
            "Successfully installed click-7.0 dnspython-1.15.0 docopt-0.6.2 donkeycar eventlet-0.24.1 flask-1.0.2 greenlet-0.4.15 imageio-2.4.1 itsdangerous-1.1.0 monotonic-1.5 moviepy-0.2.3.5 python-engineio-2.3.2 python-socketio-2.0.0\n"
          ],
          "name": "stdout"
        }
      ]
    },
    {
      "metadata": {
        "id": "h_KoXpkSyV64",
        "colab_type": "text"
      },
      "cell_type": "markdown",
      "source": [
        "## 3. 创建donkey2自动驾驶小车工程"
      ]
    },
    {
      "metadata": {
        "id": "EluM5bw-JxXL",
        "colab_type": "code",
        "colab": {
          "base_uri": "https://localhost:8080/",
          "height": 187
        },
        "outputId": "fafcc28e-cb13-4ab0-9652-89b8c5b36646"
      },
      "cell_type": "code",
      "source": [
        "!donkey createcar --template donkey2  d2"
      ],
      "execution_count": 7,
      "outputs": [
        {
          "output_type": "stream",
          "text": [
            "using donkey v2.5.1 ...\n",
            "Creating car folder: d2\n",
            "making dir  d2\n",
            "Creating data & model folders.\n",
            "making dir  d2/models\n",
            "making dir  d2/data\n",
            "making dir  d2/logs\n",
            "Copying car application template: donkey2\n",
            "Copying car config defaults. Adjust these before starting your car.\n",
            "Donkey setup complete.\n"
          ],
          "name": "stdout"
        }
      ]
    },
    {
      "metadata": {
        "id": "kPpjG_hmzU0p",
        "colab_type": "text"
      },
      "cell_type": "markdown",
      "source": [
        "## 4. 运行manage.py命令，查看帮助信息"
      ]
    },
    {
      "metadata": {
        "id": "iL1y15uMKR_g",
        "colab_type": "code",
        "colab": {
          "base_uri": "https://localhost:8080/",
          "height": 85
        },
        "outputId": "d70e69c0-76ef-411d-e2fa-f07017081a5b"
      },
      "cell_type": "code",
      "source": [
        "!cd d2  && python3 manage.py "
      ],
      "execution_count": 8,
      "outputs": [
        {
          "output_type": "stream",
          "text": [
            "using donkey v2.5.1 ...\n",
            "Usage:\n",
            "    manage.py (drive) [--model=<model>] [--js] [--chaos]\n",
            "    manage.py (train) [--tub=<tub1,tub2,..tubn>]  (--model=<model>) [--base_model=<base_model>] [--no_cache]\n"
          ],
          "name": "stdout"
        }
      ]
    },
    {
      "metadata": {
        "id": "nkWKzXtIzgdj",
        "colab_type": "text"
      },
      "cell_type": "markdown",
      "source": [
        "## 5. 上传训练数据并解压缩到指定目录"
      ]
    },
    {
      "metadata": {
        "id": "OVWbPPQ3LBGI",
        "colab_type": "code",
        "colab": {}
      },
      "cell_type": "code",
      "source": [
        "!unzip -oq log.zip -d d2/data/"
      ],
      "execution_count": 0,
      "outputs": []
    },
    {
      "metadata": {
        "id": "68yLpWh3zeag",
        "colab_type": "text"
      },
      "cell_type": "markdown",
      "source": [
        "## 6. 训练模型 "
      ]
    },
    {
      "metadata": {
        "id": "098mc3USQJ9d",
        "colab_type": "code",
        "colab": {
          "base_uri": "https://localhost:8080/",
          "height": 781
        },
        "outputId": "06d105e2-73b6-4942-86a3-41c7b48227e9"
      },
      "cell_type": "code",
      "source": [
        "!cd d2  && python3 manage.py  train --tub=\"data/log/\"  --model=models/mypilot.h5"
      ],
      "execution_count": 0,
      "outputs": [
        {
          "output_type": "stream",
          "text": [
            "using donkey v2.5.1 ...\n",
            "loading config file: /content/d2/config.py\n",
            "config loaded\n",
            "tub_names data/log/\n",
            "train: 4455, validation: 1114\n",
            "steps_per_epoch 34\n",
            "Epoch 1/100\n",
            "2018-10-30 02:32:34.060391: I tensorflow/stream_executor/cuda/cuda_gpu_executor.cc:964] successful NUMA node read from SysFS had negative value (-1), but there must be at least one NUMA node, so returning NUMA node zero\n",
            "2018-10-30 02:32:34.061007: I tensorflow/core/common_runtime/gpu/gpu_device.cc:1432] Found device 0 with properties: \n",
            "name: Tesla K80 major: 3 minor: 7 memoryClockRate(GHz): 0.8235\n",
            "pciBusID: 0000:00:04.0\n",
            "totalMemory: 11.17GiB freeMemory: 11.10GiB\n",
            "2018-10-30 02:32:34.061060: I tensorflow/core/common_runtime/gpu/gpu_device.cc:1511] Adding visible gpu devices: 0\n",
            "2018-10-30 02:32:35.139713: I tensorflow/core/common_runtime/gpu/gpu_device.cc:982] Device interconnect StreamExecutor with strength 1 edge matrix:\n",
            "2018-10-30 02:32:35.139778: I tensorflow/core/common_runtime/gpu/gpu_device.cc:988]      0 \n",
            "2018-10-30 02:32:35.139824: I tensorflow/core/common_runtime/gpu/gpu_device.cc:1001] 0:   N \n",
            "2018-10-30 02:32:35.140176: W tensorflow/core/common_runtime/gpu/gpu_bfc_allocator.cc:42] Overriding allow_growth setting because the TF_FORCE_GPU_ALLOW_GROWTH environment variable is set. Original config value was 0.\n",
            "2018-10-30 02:32:35.140321: I tensorflow/core/common_runtime/gpu/gpu_device.cc:1115] Created TensorFlow device (/job:localhost/replica:0/task:0/device:GPU:0 with 10758 MB memory) -> physical GPU (device: 0, name: Tesla K80, pci bus id: 0000:00:04.0, compute capability: 3.7)\n",
            "33/34 [============================>.] - ETA: 0s - loss: 3.8142 - angle_out_loss: 4.2308 - throttle_out_loss: 0.6467\n",
            "Epoch 00001: val_loss improved from inf to 2.07851, saving model to models/mypilot.h5\n",
            "34/34 [==============================] - 14s 419ms/step - loss: 3.7650 - angle_out_loss: 4.1763 - throttle_out_loss: 0.6351 - val_loss: 2.0785 - val_angle_out_loss: 2.3075 - val_throttle_out_loss: 0.1744\n",
            "Epoch 2/100\n",
            "33/34 [============================>.] - ETA: 0s - loss: 1.9221 - angle_out_loss: 2.1329 - throttle_out_loss: 0.2504\n",
            "Epoch 00002: val_loss improved from 2.07851 to 1.73459, saving model to models/mypilot.h5\n",
            "34/34 [==============================] - 9s 267ms/step - loss: 1.9169 - angle_out_loss: 2.1271 - throttle_out_loss: 0.2508 - val_loss: 1.7346 - val_angle_out_loss: 1.9254 - val_throttle_out_loss: 0.1687\n",
            "Epoch 3/100\n",
            "33/34 [============================>.] - ETA: 0s - loss: 1.6160 - angle_out_loss: 1.7933 - throttle_out_loss: 0.2013\n",
            "Epoch 00003: val_loss improved from 1.73459 to 1.40012, saving model to models/mypilot.h5\n",
            "34/34 [==============================] - 9s 268ms/step - loss: 1.6099 - angle_out_loss: 1.7866 - throttle_out_loss: 0.1998 - val_loss: 1.4001 - val_angle_out_loss: 1.5544 - val_throttle_out_loss: 0.1196\n",
            "Epoch 4/100\n",
            "33/34 [============================>.] - ETA: 0s - loss: 1.2878 - angle_out_loss: 1.4288 - throttle_out_loss: 0.1869\n",
            "Epoch 00004: val_loss improved from 1.40012 to 1.00291, saving model to models/mypilot.h5\n",
            "34/34 [==============================] - 9s 269ms/step - loss: 1.2848 - angle_out_loss: 1.4255 - throttle_out_loss: 0.1855 - val_loss: 1.0029 - val_angle_out_loss: 1.1130 - val_throttle_out_loss: 0.1173\n",
            "Epoch 5/100\n",
            "33/34 [============================>.] - ETA: 0s - loss: 1.2149 - angle_out_loss: 1.3481 - throttle_out_loss: 0.1591\n",
            "Epoch 00005: val_loss did not improve from 1.00291\n",
            "34/34 [==============================] - 9s 268ms/step - loss: 1.2133 - angle_out_loss: 1.3464 - throttle_out_loss: 0.1618 - val_loss: 1.0306 - val_angle_out_loss: 1.1429 - val_throttle_out_loss: 0.1949\n",
            "Epoch 6/100\n",
            "33/34 [============================>.] - ETA: 0s - loss: 1.0596 - angle_out_loss: 1.1755 - throttle_out_loss: 0.1595\n",
            "Epoch 00006: val_loss improved from 1.00291 to 0.87488, saving model to models/mypilot.h5\n",
            "34/34 [==============================] - 9s 268ms/step - loss: 1.0576 - angle_out_loss: 1.1734 - throttle_out_loss: 0.1590 - val_loss: 0.8749 - val_angle_out_loss: 0.9709 - val_throttle_out_loss: 0.1081\n",
            "Epoch 7/100\n",
            "26/34 [=====================>........] - ETA: 1s - loss: 0.9248 - angle_out_loss: 1.0261 - throttle_out_loss: 0.1324"
          ],
          "name": "stdout"
        }
      ]
    }
  ]
}
